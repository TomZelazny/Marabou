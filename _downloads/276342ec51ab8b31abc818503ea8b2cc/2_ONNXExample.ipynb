{
  "nbformat": 4,
  "nbformat_minor": 0,
  "cells": [
    {
      "source": [
        "%matplotlib inline"
      ],
      "cell_type": "code",
      "outputs": [],
      "execution_count": null,
      "metadata": {
        "collapsed": false
      }
    },
    {
      "source": [
        "\nONNX Example\n====================\n\nTop contributors (to current version):\n  - Kyle Julian\n  \nThis file is part of the Marabou project.\nCopyright (c) 2017-2019 by the authors listed in the file AUTHORS\nin the top-level source directory) and their institutional affiliations.\nAll rights reserved. See the file COPYING in the top-level source\ndirectory for licensing information.\n\n"
      ],
      "cell_type": "markdown",
      "metadata": {}
    },
    {
      "source": [
        "from maraboupy import Marabou\nimport numpy as np"
      ],
      "cell_type": "code",
      "outputs": [],
      "execution_count": null,
      "metadata": {
        "collapsed": false
      }
    },
    {
      "source": [
        "Set the Marabou option to restrict printing\n\n"
      ],
      "cell_type": "markdown",
      "metadata": {}
    },
    {
      "source": [
        "options = Marabou.createOptions(verbosity = 0)"
      ],
      "cell_type": "code",
      "outputs": [],
      "execution_count": null,
      "metadata": {
        "collapsed": false
      }
    },
    {
      "source": [
        "Fully-connected network example\n-------------------------------\n\nThis network has inputs x0, x1, and was trained to create outputs that approximate\ny0 = abs(x0) + abs(x1), y1 = x0^2 + x1^2\n\n"
      ],
      "cell_type": "markdown",
      "metadata": {}
    },
    {
      "source": [
        "print(\"Fully Connected Network Example\")\nfilename = \"../../resources/onnx/fc1.onnx\"\nnetwork = Marabou.read_onnx(filename)"
      ],
      "cell_type": "code",
      "outputs": [],
      "execution_count": null,
      "metadata": {
        "collapsed": false
      }
    },
    {
      "source": [
        "Or, you can specify the operation names of the input and output operations.\nThe default chooses the placeholder operations as inputs and the last operation as output\n\n"
      ],
      "cell_type": "markdown",
      "metadata": {}
    },
    {
      "source": [
        "inputName = 'Placeholder:0'\noutputName = 'y_out:0'\nnetwork = Marabou.read_onnx(filename=filename, inputNames=[inputName], outputName = outputName)"
      ],
      "cell_type": "code",
      "outputs": [],
      "execution_count": null,
      "metadata": {
        "collapsed": false
      }
    },
    {
      "source": [
        "Get the input and output variable numbers; [0] since first dimension is batch size\n\n"
      ],
      "cell_type": "markdown",
      "metadata": {}
    },
    {
      "source": [
        "inputVars = network.inputVars[0][0]\noutputVars = network.outputVars[0]"
      ],
      "cell_type": "code",
      "outputs": [],
      "execution_count": null,
      "metadata": {
        "collapsed": false
      }
    },
    {
      "source": [
        "Set input bounds\n\n"
      ],
      "cell_type": "markdown",
      "metadata": {}
    },
    {
      "source": [
        "network.setLowerBound(inputVars[0],-10.0)\nnetwork.setUpperBound(inputVars[0], 10.0)\nnetwork.setLowerBound(inputVars[1],-10.0)\nnetwork.setUpperBound(inputVars[1], 10.0)"
      ],
      "cell_type": "code",
      "outputs": [],
      "execution_count": null,
      "metadata": {
        "collapsed": false
      }
    },
    {
      "source": [
        "Set output bounds\n\n"
      ],
      "cell_type": "markdown",
      "metadata": {}
    },
    {
      "source": [
        "network.setLowerBound(outputVars[1], 194.0)\nnetwork.setUpperBound(outputVars[1], 210.0)"
      ],
      "cell_type": "code",
      "outputs": [],
      "execution_count": null,
      "metadata": {
        "collapsed": false
      }
    },
    {
      "source": [
        "Call to Marabou solver\n\n"
      ],
      "cell_type": "markdown",
      "metadata": {}
    },
    {
      "source": [
        "vals, stats = network.solve(options = options)"
      ],
      "cell_type": "code",
      "outputs": [],
      "execution_count": null,
      "metadata": {
        "collapsed": false
      }
    },
    {
      "source": [
        "Convolutional neural network example\n------------------------------------\n\nNetwork maps 8x16 grayscale images two values\n\n"
      ],
      "cell_type": "markdown",
      "metadata": {}
    },
    {
      "source": [
        "print(\"\\nConvolutional Network Example\")\nfilename = '../../resources/onnx/KJ_TinyTaxiNet.onnx'\nnetwork = Marabou.read_onnx(filename)"
      ],
      "cell_type": "code",
      "outputs": [],
      "execution_count": null,
      "metadata": {
        "collapsed": false
      }
    },
    {
      "source": [
        "Get the input and output variable numbers; [0] since first dimension is batch size\n\n"
      ],
      "cell_type": "markdown",
      "metadata": {}
    },
    {
      "source": [
        "inputVars = network.inputVars[0][0]\noutputVars = network.outputVars[0]"
      ],
      "cell_type": "code",
      "outputs": [],
      "execution_count": null,
      "metadata": {
        "collapsed": false
      }
    },
    {
      "source": [
        "Setup a local robustness query\n\n"
      ],
      "cell_type": "markdown",
      "metadata": {}
    },
    {
      "source": [
        "delta = 0.03\nfor h in range(inputVars.shape[0]):\n    for w in range(inputVars.shape[1]):\n        network.setLowerBound(inputVars[h][w][0], 0.5-delta)\n        network.setUpperBound(inputVars[h][w][0], 0.5+delta)"
      ],
      "cell_type": "code",
      "outputs": [],
      "execution_count": null,
      "metadata": {
        "collapsed": false
      }
    },
    {
      "source": [
        "Set output bounds\n\n"
      ],
      "cell_type": "markdown",
      "metadata": {}
    },
    {
      "source": [
        "network.setLowerBound(outputVars[0], 6.0)"
      ],
      "cell_type": "code",
      "outputs": [],
      "execution_count": null,
      "metadata": {
        "collapsed": false
      }
    },
    {
      "source": [
        "Call to Marabou solver (should be SAT)\n\n"
      ],
      "cell_type": "markdown",
      "metadata": {}
    },
    {
      "source": [
        "print(\"Check query with less restrictive output constraint (Should be SAT)\")\nvals, stats = network.solve(options = options)\nassert len(vals) > 0"
      ],
      "cell_type": "code",
      "outputs": [],
      "execution_count": null,
      "metadata": {
        "collapsed": false
      }
    },
    {
      "source": [
        "Set more restrictive output bounds\n\n"
      ],
      "cell_type": "markdown",
      "metadata": {}
    },
    {
      "source": [
        "network.setLowerBound(outputVars[0], 7.0)"
      ],
      "cell_type": "code",
      "outputs": [],
      "execution_count": null,
      "metadata": {
        "collapsed": false
      }
    },
    {
      "source": [
        "Call to Marabou solver (should be UNSAT)\n\n"
      ],
      "cell_type": "markdown",
      "metadata": {}
    },
    {
      "source": [
        "print(\"Check query with more restrictive output constraint (Should be UNSAT)\")\nvals, stats = network.solve(options = options)\nassert len(vals) == 0"
      ],
      "cell_type": "code",
      "outputs": [],
      "execution_count": null,
      "metadata": {
        "collapsed": false
      }
    },
    {
      "source": [
        "Convolutional network with max-pool example\n-------------------------------------------\n\n"
      ],
      "cell_type": "markdown",
      "metadata": {}
    },
    {
      "source": [
        "print(\"\\nConvolutional Network with Max Pool Example\")\nfilename = '../../resources/onnx/conv_mp1.onnx'\nnetwork = Marabou.read_onnx(filename)"
      ],
      "cell_type": "code",
      "outputs": [],
      "execution_count": null,
      "metadata": {
        "collapsed": false
      }
    },
    {
      "source": [
        "Get the input and output variable numbers; [0] since first dimension is batch size\n\n"
      ],
      "cell_type": "markdown",
      "metadata": {}
    },
    {
      "source": [
        "inputVars = network.inputVars[0]\noutputVars = network.outputVars"
      ],
      "cell_type": "code",
      "outputs": [],
      "execution_count": null,
      "metadata": {
        "collapsed": false
      }
    },
    {
      "source": [
        "Test Marabou equations against onnxruntime at an example input point\n\n"
      ],
      "cell_type": "markdown",
      "metadata": {}
    },
    {
      "source": [
        "inputPoint = np.ones(inputVars.shape)\nmarabouEval = network.evaluateWithMarabou([inputPoint], options = options)\nonnxEval = network.evaluateWithoutMarabou([inputPoint])"
      ],
      "cell_type": "code",
      "outputs": [],
      "execution_count": null,
      "metadata": {
        "collapsed": false
      }
    },
    {
      "source": [
        "The two evaluations should produce the same result\n\n"
      ],
      "cell_type": "markdown",
      "metadata": {}
    },
    {
      "source": [
        "print(\"Marabou Evaluation:\")\nprint(marabouEval)\nprint(\"\\nONNX Evaluation:\")\nprint(onnxEval)\nprint(\"\\nDifference:\")\nprint(onnxEval - marabouEval)\nassert max(abs(onnxEval - marabouEval)) < 1e-6"
      ],
      "cell_type": "code",
      "outputs": [],
      "execution_count": null,
      "metadata": {
        "collapsed": false
      }
    }
  ],
  "metadata": {
    "kernelspec": {
      "name": "python3",
      "language": "python",
      "display_name": "Python 3"
    },
    "language_info": {
      "codemirror_mode": {
        "version": 3,
        "name": "ipython"
      },
      "version": "3.5.2",
      "file_extension": ".py",
      "mimetype": "text/x-python",
      "pygments_lexer": "ipython3",
      "nbconvert_exporter": "python",
      "name": "python"
    }
  }
}