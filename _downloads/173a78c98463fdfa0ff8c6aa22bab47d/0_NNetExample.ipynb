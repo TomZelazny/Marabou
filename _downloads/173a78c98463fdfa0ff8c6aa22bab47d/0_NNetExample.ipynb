{
  "nbformat": 4,
  "nbformat_minor": 0,
  "cells": [
    {
      "source": [
        "%matplotlib inline"
      ],
      "cell_type": "code",
      "outputs": [],
      "execution_count": null,
      "metadata": {
        "collapsed": false
      }
    },
    {
      "source": [
        "\nNNet Example\n====================\n\nTop contributors (to current version):\n  - Christopher Lazarus\n  - Kyle Julian\n  \nThis file is part of the Marabou project.\nCopyright (c) 2017-2019 by the authors listed in the file AUTHORS\nin the top-level source directory) and their institutional affiliations.\nAll rights reserved. See the file COPYING in the top-level source\ndirectory for licensing information.\n\n"
      ],
      "cell_type": "markdown",
      "metadata": {}
    },
    {
      "source": [
        "import sys\nimport numpy as np\n\n## %\n# Path to Marabou folder if you did not export it\n\n# sys.path.append('/home/USER/git/Marabou')\nfrom maraboupy import Marabou"
      ],
      "cell_type": "code",
      "outputs": [],
      "execution_count": null,
      "metadata": {
        "collapsed": false
      }
    },
    {
      "source": [
        "Path to NNet file\n\n"
      ],
      "cell_type": "markdown",
      "metadata": {}
    },
    {
      "source": [
        "nnetFile = \"../../src/input_parsers/acas_example/ACASXU_run2a_1_1_tiny_2.nnet\""
      ],
      "cell_type": "code",
      "outputs": [],
      "execution_count": null,
      "metadata": {
        "collapsed": false
      }
    },
    {
      "source": [
        "Load the network from NNet file, and set a lower bound on first output variable\n\n"
      ],
      "cell_type": "markdown",
      "metadata": {}
    },
    {
      "source": [
        "net1 = Marabou.read_nnet(nnetFile)\nnet1.setLowerBound(net1.outputVars[0][0], .5)"
      ],
      "cell_type": "code",
      "outputs": [],
      "execution_count": null,
      "metadata": {
        "collapsed": false
      }
    },
    {
      "source": [
        "Solve Marabou query\n\n"
      ],
      "cell_type": "markdown",
      "metadata": {}
    },
    {
      "source": [
        "vals1, stats1 = net1.solve()"
      ],
      "cell_type": "code",
      "outputs": [],
      "execution_count": null,
      "metadata": {
        "collapsed": false
      }
    },
    {
      "source": [
        "Example statistics\n\n"
      ],
      "cell_type": "markdown",
      "metadata": {}
    },
    {
      "source": [
        "stats1.getNumSplits()\nstats1.getTotalTime()"
      ],
      "cell_type": "code",
      "outputs": [],
      "execution_count": null,
      "metadata": {
        "collapsed": false
      }
    },
    {
      "source": [
        "Eval example\n\nTest that when the upper/lower bounds of input variables are fixed at the\nsame value, with no other input/output constraints, Marabou returns the \noutputs found by evaluating the network at the input point.\n\n"
      ],
      "cell_type": "markdown",
      "metadata": {}
    },
    {
      "source": [
        "inputs = np.array([-0.328422874212265,\n                    0.40932923555374146,\n                   -0.017379289492964745,\n                   -0.2747684121131897,\n                   -0.30628132820129395])\n\noutputsExpected = np.array([0.49999678, -0.18876659,  0.80778555, -2.76422264, -0.12984317])\n\nnet2 = Marabou.read_nnet(nnetFile)\noutputsMarabou = net2.evaluateWithMarabou([inputs])\nassert max(abs(outputsMarabou.flatten() - outputsExpected)) < 1e-8"
      ],
      "cell_type": "code",
      "outputs": [],
      "execution_count": null,
      "metadata": {
        "collapsed": false
      }
    }
  ],
  "metadata": {
    "kernelspec": {
      "name": "python3",
      "language": "python",
      "display_name": "Python 3"
    },
    "language_info": {
      "codemirror_mode": {
        "version": 3,
        "name": "ipython"
      },
      "version": "3.5.2",
      "file_extension": ".py",
      "mimetype": "text/x-python",
      "pygments_lexer": "ipython3",
      "nbconvert_exporter": "python",
      "name": "python"
    }
  }
}